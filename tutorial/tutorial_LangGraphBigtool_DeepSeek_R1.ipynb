{
 "cells": [
  {
   "cell_type": "code",
   "execution_count": null,
   "metadata": {},
   "outputs": [
    {
     "name": "stderr",
     "output_type": "stream",
     "text": [
      "C:\\Users\\leo_c\\AppData\\Local\\Temp\\ipykernel_55696\\1597647674.py:29: LangChainBetaWarning: The function `convert_positional_only_function_to_tool` is in beta. It is actively being worked on, so the API may change.\n",
      "  if tool := convert_positional_only_function_to_tool(\n",
      "C:\\Users\\leo_c\\AppData\\Local\\Temp\\ipykernel_55696\\1597647674.py:43: LangChainBetaWarning: The function `init_embeddings` is in beta. It is actively being worked on, so the API may change.\n",
      "  embeddings = init_embeddings(\"openai:text-embedding-3-small\")\n"
     ]
    },
    {
     "name": "stdout",
     "output_type": "stream",
     "text": [
      "<langgraph.graph.state.CompiledStateGraph object at 0x0000026BD669EFD0>\n"
     ]
    }
   ],
   "source": [
    "import math\n",
    "import types\n",
    "import uuid\n",
    "from dotenv import load_dotenv\n",
    "import os\n",
    "\n",
    "from langchain.embeddings import init_embeddings\n",
    "from langgraph.store.memory import InMemoryStore\n",
    "\n",
    "from langgraph_bigtool import create_agent\n",
    "from langgraph_bigtool.utils import (\n",
    "    convert_positional_only_function_to_tool\n",
    ")\n",
    "from langchain_openai import ChatOpenAI\n",
    "\n",
    "# Load environment variables (ie. API keys) from .env file\n",
    "load_dotenv()\n",
    "\n",
    "# Collect functions from `math` built-in\n",
    "all_tools = []\n",
    "for function_name in dir(math):\n",
    "    function = getattr(math, function_name)\n",
    "    if not isinstance(\n",
    "        function, types.BuiltinFunctionType\n",
    "    ):\n",
    "        continue\n",
    "    # This is an idiosyncrasy of the `math` library\n",
    "    if tool := convert_positional_only_function_to_tool(\n",
    "        function\n",
    "    ):\n",
    "        all_tools.append(tool)\n",
    "\n",
    "# Create registry of tools. This is a dict mapping\n",
    "# identifiers to tool instances.\n",
    "tool_registry = {\n",
    "    str(uuid.uuid4()): tool\n",
    "    for tool in all_tools\n",
    "}\n",
    "\n",
    "# Index tool names and descriptions in the LangGraph Store\n",
    "# Here we use a simple in-memory store, using OpenAI's text-embedding-3-small embedding model (make sure you have your OPENAI_API_KEY saved in your .env file)\n",
    "embeddings = init_embeddings(\"openai:text-embedding-3-small\")\n",
    "\n",
    "store = InMemoryStore(\n",
    "    index={\n",
    "        \"embed\": embeddings,\n",
    "        \"dims\": 1536,\n",
    "        \"fields\": [\"description\"],\n",
    "    }\n",
    ")\n",
    "for tool_id, tool in tool_registry.items():\n",
    "    store.put(\n",
    "        (\"tools\",),\n",
    "        tool_id,\n",
    "        {\n",
    "            \"description\": f\"{tool.name}: {tool.description}\",\n",
    "        },\n",
    "    )\n",
    "\n",
    "# Initialize agent\n",
    "llm = ChatOpenAI(\n",
    "    model=\"deepseek/deepseek-r1\",\n",
    "    api_key=os.environ[\"OPENROUTER_API_KEY\"],\n",
    "    base_url=\"https://openrouter.ai/api/v1\"\n",
    ")\n",
    "\n",
    "builder = create_agent(llm, tool_registry)\n",
    "agent = builder.compile(store=store)\n",
    "print(agent)"
   ]
  },
  {
   "cell_type": "code",
   "execution_count": 2,
   "metadata": {},
   "outputs": [
    {
     "name": "stdout",
     "output_type": "stream",
     "text": [
      "==================================\u001b[1m Ai Message \u001b[0m==================================\n",
      "Tool Calls:\n",
      "  retrieve_tools (call_1krw21tnqubf094g5v2lnmqd)\n",
      " Call ID: call_1krw21tnqubf094g5v2lnmqd\n",
      "  Args:\n",
      "    query: arc cosine calculator\n",
      "=================================\u001b[1m Tool Message \u001b[0m=================================\n",
      "\n",
      "Available tools: ['cos', 'acos']\n",
      "==================================\u001b[1m Ai Message \u001b[0m==================================\n",
      "Tool Calls:\n",
      "  acos (call_qti8comwhr2gjk21rj85xxrc)\n",
      " Call ID: call_qti8comwhr2gjk21rj85xxrc\n",
      "  Args:\n",
      "    x: 0.5\n",
      "=================================\u001b[1m Tool Message \u001b[0m=================================\n",
      "Name: acos\n",
      "\n",
      "1.0471975511965979\n",
      "==================================\u001b[1m Ai Message \u001b[0m==================================\n",
      "\n",
      "The arc cosine of 0.5 is **1.0472 radians** (which equals **60 degrees**). \n",
      "\n",
      "This is because \\(\\cos(60^\\circ) = 0.5\\), so \\(\\arccos(0.5) = 60^\\circ\\) or \\(\\frac{\\pi}{3}\\) radians. 😊\n"
     ]
    }
   ],
   "source": [
    "query = \"Use available tools to calculate arc cosine of 0.5.\"\n",
    "\n",
    "# Test it out\n",
    "for step in agent.stream(\n",
    "    {\"messages\": query},\n",
    "    stream_mode=\"updates\",\n",
    "):\n",
    "    for _, update in step.items():\n",
    "        for message in update.get(\"messages\", []):\n",
    "            message.pretty_print()"
   ]
  }
 ],
 "metadata": {
  "kernelspec": {
   "display_name": "base",
   "language": "python",
   "name": "python3"
  },
  "language_info": {
   "codemirror_mode": {
    "name": "ipython",
    "version": 3
   },
   "file_extension": ".py",
   "mimetype": "text/x-python",
   "name": "python",
   "nbconvert_exporter": "python",
   "pygments_lexer": "ipython3",
   "version": "3.11.11"
  }
 },
 "nbformat": 4,
 "nbformat_minor": 2
}
